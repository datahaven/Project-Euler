{
 "cells": [
  {
   "cell_type": "markdown",
   "metadata": {},
   "source": [
    "Project Euler 108\n",
    "\n",
    "There's a strong hint in the text of related problem 110 that this puzzle can be solved by brute force. My favourite method!\n",
    "\n",
    "---\n",
    "\n",
    "Congratulations, the answer you gave to problem 108 is correct.\n",
    "\n",
    "You are the 10007th person to have solved this problem."
   ]
  },
  {
   "cell_type": "code",
   "execution_count": 17,
   "metadata": {
    "collapsed": false
   },
   "outputs": [
    {
     "name": "stdout",
     "output_type": "stream",
     "text": [
      "x=5 y=20\n",
      "x=6 y=12\n",
      "x=8 y=8\n"
     ]
    }
   ],
   "source": [
    "# Print out all the solutions for N\n",
    "def solve(n):\n",
    "    for x in range(n+1, 2*n+1):\n",
    "        nx = n*x\n",
    "        xminusn = x-n\n",
    "        #print(\"nx={} xminusn={} mod={}\".format(nx, xminusn, nx % xminusn))\n",
    "        if nx % xminusn == 0:\n",
    "            print(\"x={} y={}\".format(x, nx / xminusn))\n",
    "        \n",
    "solve(4)\n"
   ]
  },
  {
   "cell_type": "code",
   "execution_count": 20,
   "metadata": {
    "collapsed": false
   },
   "outputs": [
    {
     "data": {
      "text/plain": [
       "3"
      ]
     },
     "execution_count": 20,
     "metadata": {},
     "output_type": "execute_result"
    }
   ],
   "source": [
    "# As above but count up all the solutions for N\n",
    "def countSolutions(n):\n",
    "    solutionCount = 0\n",
    "    for x in range(n+1, 2*n+1):\n",
    "        nx = n*x\n",
    "        xminusn = x-n\n",
    "        if nx % xminusn == 0:\n",
    "            solutionCount += 1\n",
    "            #print(\"x={} y={}\".format(x, nx / xminusn))\n",
    "    return solutionCount\n",
    "\n",
    "countSolutions(4)"
   ]
  },
  {
   "cell_type": "markdown",
   "metadata": {},
   "source": [
    "Next comes my lazy brute force experiment.\n",
    "I've started at n==4 and guessed an upper bound.\n",
    "However, we know that there need to be at least 1000 numbers between 2*n+1 and n+1\n",
    "I'm not all that convinced that this solution is practical\n",
    "Through experimenting and skipping some numbers I've found that n==2310000 has 1094 solutions\n",
    "Narrowing it down, reducing step size each time we get a better upper bound:\n",
    "n==1071000 has 1103 solutions\n",
    "n==1009800 has 1103 solutions\n",
    "n==1002540 has 1013 solutions\n",
    "\n",
    "This is slow and not exactly mathematically rigorous. We also don't know whether or not there are any answers for n < 1000000\n",
    "as that is where I've been counting from. Eventually, however, I've learned that 1001540 is the best answer for n >= 1000000\n",
    "\n",
    "I did a very slow run (below) and came up with:\n",
    "Best So Far n==180180 has 1013 solutions\n"
   ]
  },
  {
   "cell_type": "code",
   "execution_count": 30,
   "metadata": {
    "collapsed": false
   },
   "outputs": [
    {
     "name": "stdout",
     "output_type": "stream",
     "text": [
      "Best So Far n==1 has 1 solutions\n",
      "Best So Far n==2 has 2 solutions\n",
      "Best So Far n==4 has 3 solutions\n",
      "Best So Far n==6 has 5 solutions\n",
      "Best So Far n==12 has 8 solutions\n",
      "Best So Far n==24 has 11 solutions\n",
      "Best So Far n==30 has 14 solutions\n",
      "Best So Far n==60 has 23 solutions\n",
      "Best So Far n==120 has 32 solutions\n",
      "Best So Far n==180 has 38 solutions\n",
      "Best So Far n==210 has 41 solutions\n",
      "Best So Far n==360 has 53 solutions\n",
      "Best So Far n==420 has 68 solutions\n",
      "Best So Far n==840 has 95 solutions\n",
      "Best So Far n==1260 has 113 solutions\n",
      "Best So Far n==1680 has 122 solutions\n",
      "Best So Far n==2520 has 158 solutions\n",
      "Best So Far n==4620 has 203 solutions\n",
      "Best So Far n==7560 has 221 solutions\n",
      "Best So Far n==9240 has 284 solutions\n",
      "Best So Far n==13860 has 338 solutions\n",
      "Best So Far n==18480 has 365 solutions\n",
      "Best So Far n==27720 has 473 solutions\n",
      "Best So Far n==55440 has 608 solutions\n",
      "Best So Far n==83160 has 662 solutions\n",
      "Best So Far n==110880 has 743 solutions\n",
      "Best So Far n==120120 has 851 solutions\n",
      "Best So Far n==180180 has 1013 solutions\n",
      "n==180180 has 1013 solutions\n"
     ]
    }
   ],
   "source": [
    "bestSoFar = 0\n",
    "for n in range(1, 1000000,1):\n",
    "    \n",
    "    solCount = countSolutions(n)\n",
    "    if solCount > bestSoFar:\n",
    "        bestSoFar = solCount\n",
    "        print(\"Best So Far n=={} has {} solutions\".format(n, countSolutions(n)))\n",
    "    if solCount > 1000:\n",
    "        print(\"n=={} has {} solutions\".format(n, countSolutions(n)))\n",
    "        break"
   ]
  }
 ],
 "metadata": {
  "kernelspec": {
   "display_name": "Python 2",
   "language": "python",
   "name": "python2"
  },
  "language_info": {
   "codemirror_mode": {
    "name": "ipython",
    "version": 2
   },
   "file_extension": ".py",
   "mimetype": "text/x-python",
   "name": "python",
   "nbconvert_exporter": "python",
   "pygments_lexer": "ipython2",
   "version": "2.7.11"
  }
 },
 "nbformat": 4,
 "nbformat_minor": 0
}
